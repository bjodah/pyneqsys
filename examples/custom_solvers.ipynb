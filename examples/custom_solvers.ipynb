{
 "cells": [
  {
   "cell_type": "markdown",
   "metadata": {},
   "source": [
    "# Custom solvers\n",
    "In this notebook we will take a quick look on how the user may wrap an external solver for use with ``pyneqsys``."
   ]
  },
  {
   "cell_type": "code",
   "execution_count": null,
   "metadata": {},
   "outputs": [],
   "source": [
    "import warnings\n",
    "import numpy as np\n",
    "import scipy\n",
    "from matplotlib.colors import Normalize\n",
    "import matplotlib.cm as cm\n",
    "import matplotlib.pyplot as plt\n",
    "%matplotlib inline"
   ]
  },
  {
   "cell_type": "markdown",
   "metadata": {},
   "source": [
    "We will use a 2 dimensional problem for illustration:"
   ]
  },
  {
   "cell_type": "code",
   "execution_count": null,
   "metadata": {},
   "outputs": [],
   "source": [
    "def f(x, p):\n",
    "    return [\n",
    "        (-2*p[0] - 4*p[1]*x[0]*(-x[0]**2 + x[1]) + 2*x[0])**2,\n",
    "         p[1]**2*(-2*x[0]**2 + 2*x[1])**2\n",
    "    ]\n",
    "    #pp1 = p[0]+p[1]+1\n",
    "    #dx = x[0] - x[1]\n",
    "    #exprs = [\n",
    "    #    (dx**3 + 3*(x[0]-3*pp1/5)**2)/(1+x[1])*pp1,\n",
    "    #    (dx**3 + 5*(x[1]-3*pp1/7)**2)/(1+x[0])*pp1\n",
    "    #]\n",
    "    # Differentiation of expressions above:\n",
    "    exprs = [\n",
    "        ((x[0] - x[1])**3 + 3*(-3*p[0]/5 - 3*p[1]/5 + x[0] - 3/5)**2)*(p[0] + p[1] + 1)**2*(-36*p[0]/5 - 36*p[1]/5 + 12*x[0] + 6*(x[0] - x[1])**2 - 36/5)/(x[1] + 1)**2 + 6*(x[0] - x[1])**2*((x[0] - x[1])**3 + 5*(-3*p[0]/7 - 3*p[1]/7 + x[1] - 3/7)**2)*(p[0] + p[1] + 1)**2/(x[0] + 1)**2 - 2*((x[0] - x[1])**3 + 5*(-3*p[0]/7 - 3*p[1]/7 + x[1] - 3/7)**2)**2*(p[0] + p[1] + 1)**2/(x[0] + 1)**3,\n",
    "        -6*(x[0] - x[1])**2*((x[0] - x[1])**3 + 3*(-3*p[0]/5 - 3*p[1]/5 + x[0] - 3/5)**2)*(p[0] + p[1] + 1)**2/(x[1] + 1)**2 - 2*((x[0] - x[1])**3 + 3*(-3*p[0]/5 - 3*p[1]/5 + x[0] - 3/5)**2)**2*(p[0] + p[1] + 1)**2/(x[1] + 1)**3 + ((x[0] - x[1])**3 + 5*(-3*p[0]/7 - 3*p[1]/7 + x[1] - 3/7)**2)*(p[0] + p[1] + 1)**2*(-60*p[0]/7 - 60*p[1]/7 + 20*x[1] - 6*(x[0] - x[1])**2 - 60/7)/(x[0] + 1)**2\n",
    "    ]\n",
    "    return exprs\n",
    "    "
   ]
  },
  {
   "cell_type": "code",
   "execution_count": null,
   "metadata": {},
   "outputs": [],
   "source": [
    "def visualize(f, params, *, bounds=[(-2,2), (-1,3)], three_dim=False, ax2D=None, ax3D=None, plot3d_kw=None, fig=None):\n",
    "    x = np.linspace(*bounds[0], 10)\n",
    "    y = np.linspace(*bounds[1], 10)\n",
    "    xx, yy = np.meshgrid(x, y, sparse=True)\n",
    "    z = f([xx,yy], params)\n",
    "    rms = np.sum(np.asarray(z)**2, axis=0)**0.5\n",
    "    if ax2D is None and ax3D is None:\n",
    "        ax2D = True\n",
    "    \n",
    "    \n",
    "    if ax2D:\n",
    "        if ax2D is None:\n",
    "            fig, ax2D = plt.subplots(1,1)\n",
    "        #h = ax2D.contourf(x,y, rms, cmap=m)\n",
    "        h=ax2D.pcolormesh(x,y,rms, shading='auto')\n",
    "        #cb = fig.colorbar(h)\n",
    "        #cb.set_label(\"RMS\")\n",
    "        m = cm.ScalarMappable(cmap=h.cmap, norm=h.norm)\n",
    "        colors=h.cmap(h.norm(rms))\n",
    "    else:\n",
    "        norm=Normalize(vmin=rms.min(), vmax=rms.max())\n",
    "        colors=cm.viridis(norm(rms))\n",
    "        m = cm.ScalarMappable(cmap=cm.viridis, norm=norm)\n",
    "    m.set_array(rms)\n",
    "    \n",
    "    if ax3D:\n",
    "        if ax3D is True:\n",
    "            fig, ax3D = plt.subplots(1,1, subplot_kw=dict(projection='3d'))    \n",
    "        s = ax3D.plot_surface(xx, yy, rms, facecolors=colors, **(plot3d_kw or {}))\n",
    "    \n",
    "    \n",
    "        \n",
    "    cb = fig.colorbar(m)\n",
    "    cb.set_label(\"RMS\")"
   ]
  },
  {
   "cell_type": "code",
   "execution_count": null,
   "metadata": {},
   "outputs": [],
   "source": [
    "fig = plt.figure(figsize=(14,6))\n",
    "tough_parameters = [1., 100.]\n",
    "visualize(f, tough_parameters, ax2D=fig.add_subplot(1,2,1), ax3D=fig.add_subplot(1,2,2,projection='3d'), fig=fig)"
   ]
  },
  {
   "cell_type": "code",
   "execution_count": null,
   "metadata": {},
   "outputs": [],
   "source": [
    "fig = plt.figure(figsize=(14,6))\n",
    "easy_parameters=[1.0, 0.2]\n",
    "visualize(f, easy_parameters, ax2D=fig.add_subplot(1,2,1), ax3D=fig.add_subplot(1,2,2,projection='3d'), fig=fig)"
   ]
  },
  {
   "cell_type": "code",
   "execution_count": null,
   "metadata": {},
   "outputs": [],
   "source": [
    "from pyneqsys.symbolic import SymbolicSys\n",
    "help(SymbolicSys.from_callback)"
   ]
  },
  {
   "cell_type": "code",
   "execution_count": null,
   "metadata": {},
   "outputs": [],
   "source": [
    "neqsys = SymbolicSys.from_callback(f, 2, 2)\n",
    "help(neqsys.solve)"
   ]
  },
  {
   "cell_type": "code",
   "execution_count": null,
   "metadata": {},
   "outputs": [],
   "source": [
    "neqsys.solve([.3, .7], tough_parameters)"
   ]
  },
  {
   "cell_type": "markdown",
   "metadata": {},
   "source": [
    "SciPy's could find the root, let's see how KINSOL from SUNDIALS fares:"
   ]
  },
  {
   "cell_type": "code",
   "execution_count": null,
   "metadata": {},
   "outputs": [],
   "source": [
    "neqsys.solve([.3, .7], tough_parameters, solver='kinsol', mxiter=400)"
   ]
  },
  {
   "cell_type": "code",
   "execution_count": null,
   "metadata": {},
   "outputs": [],
   "source": [
    "neqsys.solve([.3, .7], easy_parameters, solver='kinsol', mxiter=400)"
   ]
  },
  {
   "cell_type": "markdown",
   "metadata": {},
   "source": [
    "No problem. In SciPy v0.17 a new pure-python least squares optimizer was introduced, let's wrap it for use within ``pyneqsys``:"
   ]
  },
  {
   "cell_type": "code",
   "execution_count": null,
   "metadata": {},
   "outputs": [],
   "source": [
    "class SciPyLsq:\n",
    "    def __init__(self, neqsys):\n",
    "        self.neqsys = neqsys\n",
    "\n",
    "    def __call__(self, x0, **kwargs):\n",
    "        new_kwargs = kwargs.copy()\n",
    "        if self.neqsys.band is not None:\n",
    "            raise ValueError(\"Not supported (see SciPy docs)\")\n",
    "        new_kwargs['args'] = (self.neqsys.internal_params,)\n",
    "        return scipy.optimize.least_squares(self.neqsys.f_cb, x0, jac=self.neqsys.j_cb, **new_kwargs)\n",
    "result = neqsys.solve([.3, .7], tough_parameters, attached_solver=SciPyLsq)\n",
    "print(result)"
   ]
  },
  {
   "cell_type": "markdown",
   "metadata": {},
   "source": [
    "We can see that the wrapping is quite straightforward. (the solver can then be used with e.g. the symbolic facilities of ``pyneqsys``).\n",
    "\n",
    "## Looking at some demo-solvers distributed with ``pyneqsys``\n",
    "In ``pyneqsys.solvers`` there are some demo solvers provided (they are not \"producation grade\" but rather serves as API examples."
   ]
  },
  {
   "cell_type": "code",
   "execution_count": null,
   "metadata": {},
   "outputs": [],
   "source": [
    "#import pyneqsys.solvers   # uncomment to look at the source code\n",
    "#pyneqsys.solvers??"
   ]
  },
  {
   "cell_type": "markdown",
   "metadata": {},
   "source": [
    "We will plot the convergence behaviour of the solvers:"
   ]
  },
  {
   "cell_type": "code",
   "execution_count": null,
   "metadata": {},
   "outputs": [],
   "source": [
    "def plot_convergence(attached_solver, plot_attr, params=()):\n",
    "    import numpy as np\n",
    "    import matplotlib.pyplot as plt\n",
    "    %matplotlib inline\n",
    "    x_history = np.array(attached_solver.history_x)\n",
    "    plt.figure(figsize=(15, 3))\n",
    "    plt.subplot(1, 4, 1)\n",
    "    plt.plot(x_history[:, 0], x_history[:, 1]); plt.xlabel('x0'), plt.ylabel('x1')\n",
    "    plt.subplot(1, 4, 2)\n",
    "    plt.plot(neqsys.rms(x_history, params)); plt.xlabel('iteration'), plt.ylabel('RMS(residuals)')\n",
    "    plt.subplot(1, 4, 3)\n",
    "    plt.semilogy(range(15, len(x_history)), neqsys.rms(x_history[15:], params)); plt.xlabel('iteration'), plt.ylabel('RMS(residuals)')\n",
    "    plt.subplot(1, 4, 4)\n",
    "    plt.plot(np.asarray(getattr(attached_solver, plot_attr)))\n",
    "    plt.ylabel(plot_attr)\n",
    "    plt.xlabel('iteration')\n",
    "    plt.tight_layout()"
   ]
  },
  {
   "cell_type": "markdown",
   "metadata": {},
   "source": [
    "Let's start with a line-searching gradient descent solver:"
   ]
  },
  {
   "cell_type": "code",
   "execution_count": null,
   "metadata": {},
   "outputs": [],
   "source": [
    "from pyneqsys.solvers import LineSearchingGradientDescentSolver as LSGD\n",
    "lsgd = LSGD()\n",
    "print(neqsys.solve([.3, .7], easy_parameters, maxiter=2500, attached_solver=lsgd))\n",
    "plot_convergence(lsgd, 'history_rms_f', easy_parameters)"
   ]
  },
  {
   "cell_type": "markdown",
   "metadata": {},
   "source": [
    "We can compare this with a conjugate gradient solver:"
   ]
  },
  {
   "cell_type": "code",
   "execution_count": null,
   "metadata": {},
   "outputs": [],
   "source": [
    "from pyneqsys.solvers import PolakRibiereConjugateGradientSolver as CG\n",
    "cg = CG(4)\n",
    "print(neqsys.solve([.3, .7], easy_parameters, attached_solver=cg))\n",
    "plot_convergence(cg, 'history_sn', easy_parameters)"
   ]
  },
  {
   "cell_type": "markdown",
   "metadata": {},
   "source": [
    "One can also build generalizations of the solvers quite easily, here is a damped gradient descent solver with damping chosen from the iteration history:"
   ]
  },
  {
   "cell_type": "code",
   "execution_count": null,
   "metadata": {},
   "outputs": [],
   "source": [
    "from pyneqsys.solvers import AutoDampedGradientDescentSolver as ADGD\n",
    "adgd = ADGD(1e-2, 3e-2, 4, .5)\n",
    "print(neqsys.solve([.3, .7], easy_parameters, maxiter=300, attached_solver=adgd))\n",
    "plot_convergence(adgd, 'history_damping', easy_parameters)"
   ]
  },
  {
   "cell_type": "markdown",
   "metadata": {},
   "source": [
    "this notebook hopefully shows that the API of ``pyneqsys`` is quite approachable."
   ]
  },
  {
   "cell_type": "code",
   "execution_count": null,
   "metadata": {},
   "outputs": [],
   "source": []
  },
  {
   "cell_type": "code",
   "execution_count": null,
   "metadata": {},
   "outputs": [],
   "source": []
  }
 ],
 "metadata": {
  "kernelspec": {
   "display_name": "Python 3 (ipykernel)",
   "language": "python",
   "name": "python3"
  },
  "language_info": {
   "codemirror_mode": {
    "name": "ipython",
    "version": 3
   },
   "file_extension": ".py",
   "mimetype": "text/x-python",
   "name": "python",
   "nbconvert_exporter": "python",
   "pygments_lexer": "ipython3",
   "version": "3.10.6"
  }
 },
 "nbformat": 4,
 "nbformat_minor": 1
}
