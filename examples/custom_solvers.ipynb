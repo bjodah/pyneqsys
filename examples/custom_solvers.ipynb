{
 "cells": [
  {
   "cell_type": "markdown",
   "metadata": {},
   "source": [
    "# Custom solvers\n",
    "In this notebook we will take a quick look on how the user may wrap an external solver for use with ``pyneqsys``."
   ]
  },
  {
   "cell_type": "code",
   "execution_count": null,
   "metadata": {},
   "outputs": [],
   "source": [
    "import warnings\n",
    "from pyneqsys.symbolic import SymbolicSys\n",
    "import scipy\n",
    "version = scipy.__version__.split('.')\n",
    "scipy_at_least_point_seventeen = int(version[0]) > 0 or int(version[1]) >= 17\n",
    "if not scipy_at_least_point_seventeen:\n",
    "    warnings.warn(\"scipy version less than 0.17, the SciPyLsq example will be skipped\")"
   ]
  },
  {
   "cell_type": "markdown",
   "metadata": {},
   "source": [
    "We will use a 2 dimensional problem for illustration:"
   ]
  },
  {
   "cell_type": "code",
   "execution_count": null,
   "metadata": {},
   "outputs": [],
   "source": [
    "def f(x):\n",
    "    return [(x[0] - x[1])**3/2 + x[0] - 1,\n",
    "            (x[1] - x[0])**3/2 + x[1]]\n",
    "neqsys = SymbolicSys.from_callback(f, 2)"
   ]
  },
  {
   "cell_type": "code",
   "execution_count": null,
   "metadata": {},
   "outputs": [],
   "source": [
    "neqsys.solve([1, 0])"
   ]
  },
  {
   "cell_type": "markdown",
   "metadata": {},
   "source": [
    "SciPy's could find the root, let's see how KINSOL from SUNDIALS fares:"
   ]
  },
  {
   "cell_type": "code",
   "execution_count": null,
   "metadata": {},
   "outputs": [],
   "source": [
    "neqsys.solve([1, 0], solver='kinsol')"
   ]
  },
  {
   "cell_type": "markdown",
   "metadata": {},
   "source": [
    "No problem. In SciPy v0.17 a new pure-python least squares optimizer was introduced, let's wrap it for use within ``pyneqsys``:"
   ]
  },
  {
   "cell_type": "code",
   "execution_count": null,
   "metadata": {},
   "outputs": [],
   "source": [
    "if scipy_at_least_point_seventeen:\n",
    "    # New solver in SciPy v0.17\n",
    "    # http://scipy.github.io/devdocs/generated/scipy.optimize.root.html#scipy.optimize.root\n",
    "    class SciPyLsq:\n",
    "        def __init__(self, neqsys):\n",
    "            self.neqsys = neqsys\n",
    "            \n",
    "        def __call__(self, x0, **kwargs):\n",
    "            new_kwargs = kwargs.copy()\n",
    "            if self.neqsys.band is not None:\n",
    "                raise ValueError(\"Not supported (see SciPy docs)\")\n",
    "            new_kwargs['args'] = (self.neqsys.internal_params,)\n",
    "            return scipy.optimize.least_squares(self.neqsys.f_cb, x0, jac=self.neqsys.j_cb, **new_kwargs)\n",
    "    result = neqsys.solve([1, 0], attached_solver=SciPyLsq)\n",
    "    print(result)"
   ]
  },
  {
   "cell_type": "markdown",
   "metadata": {},
   "source": [
    "We can see that the wrapping is quite straightforward. (the solver can then be used with e.g. the symbolic facilities of ``pyneqsys``).\n",
    "\n",
    "## Looking at some demo-solvers distributed with ``pyneqsys``\n",
    "In ``pyneqsys.solvers`` there are some demo solvers provided (they are not \"producation grade\" but rather serves as API examples."
   ]
  },
  {
   "cell_type": "code",
   "execution_count": null,
   "metadata": {},
   "outputs": [],
   "source": [
    "# import pyneqsys.solvers; pyneqsys.solvers??  # uncomment to look at the source code"
   ]
  },
  {
   "cell_type": "markdown",
   "metadata": {},
   "source": [
    "We will plot the convergence behaviour of the solvers:"
   ]
  },
  {
   "cell_type": "code",
   "execution_count": null,
   "metadata": {},
   "outputs": [],
   "source": [
    "def plot_convergence(attached_solver, plot_attr):\n",
    "    import numpy as np\n",
    "    import matplotlib.pyplot as plt\n",
    "    %matplotlib inline\n",
    "    x_history = np.array(attached_solver.history_x)\n",
    "    plt.figure(figsize=(15, 3))\n",
    "    plt.subplot(1, 4, 1)\n",
    "    plt.plot(x_history[:, 0], x_history[:, 1]); plt.xlabel('x0'), plt.ylabel('x1')\n",
    "    plt.subplot(1, 4, 2)\n",
    "    plt.plot(neqsys.rms(x_history)); plt.xlabel('iteration'), plt.ylabel('RMS(residuals)')\n",
    "    plt.subplot(1, 4, 3)\n",
    "    plt.semilogy(range(15, len(x_history)), neqsys.rms(x_history[15:])); plt.xlabel('iteration'), plt.ylabel('RMS(residuals)')\n",
    "    plt.subplot(1, 4, 4)\n",
    "    plt.plot(np.asarray(getattr(attached_solver, plot_attr)))\n",
    "    plt.ylabel(plot_attr)\n",
    "    plt.xlabel('iteration')\n",
    "    plt.tight_layout()"
   ]
  },
  {
   "cell_type": "markdown",
   "metadata": {},
   "source": [
    "Let's start with a line-searching gradient descent solver:"
   ]
  },
  {
   "cell_type": "code",
   "execution_count": null,
   "metadata": {},
   "outputs": [],
   "source": [
    "from pyneqsys.solvers import LineSearchingGradientDescentSolver as LSGD\n",
    "lsgd = LSGD()\n",
    "print(neqsys.solve([.8, .1], attached_solver=lsgd))\n",
    "plot_convergence(lsgd, 'history_rms_f')"
   ]
  },
  {
   "cell_type": "markdown",
   "metadata": {},
   "source": [
    "We can compare this with a conjugate gradient solver:"
   ]
  },
  {
   "cell_type": "code",
   "execution_count": null,
   "metadata": {},
   "outputs": [],
   "source": [
    "from pyneqsys.solvers import PolakRibiereConjugateGradientSolver as CG\n",
    "cg = CG(4)\n",
    "print(neqsys.solve([.8, .1], attached_solver=cg))\n",
    "plot_convergence(cg, 'history_sn')"
   ]
  },
  {
   "cell_type": "markdown",
   "metadata": {},
   "source": [
    "One can also build generalizations of the solvers quite easily, here is a damped gradient descent solver with damping chosen from the iteration history:"
   ]
  },
  {
   "cell_type": "code",
   "execution_count": null,
   "metadata": {},
   "outputs": [],
   "source": [
    "from pyneqsys.solvers import AutoDampedGradientDescentSolver as ADGD\n",
    "adgd = ADGD(.15)\n",
    "print(neqsys.solve([.8, .1], attached_solver=adgd))\n",
    "plot_convergence(adgd, 'history_damping')"
   ]
  },
  {
   "cell_type": "markdown",
   "metadata": {
    "collapsed": true
   },
   "source": [
    "this notebook hopefully shows that the API of ``pyneqsys`` is quite approachable."
   ]
  }
 ],
 "metadata": {
  "kernelspec": {
   "display_name": "Python 2",
   "language": "python",
   "name": "python3"
  },
  "language_info": {
   "codemirror_mode": {
    "name": "ipython",
    "version": 3
   },
   "file_extension": ".py",
   "mimetype": "text/x-python",
   "name": "python",
   "nbconvert_exporter": "python",
   "pygments_lexer": "ipython3",
   "version": "3.6.1"
  }
 },
 "nbformat": 4,
 "nbformat_minor": 1
}
