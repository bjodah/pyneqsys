{
 "cells": [
  {
   "cell_type": "markdown",
   "metadata": {},
   "source": [
    "# Row-reduce and variable transformations in non-linear equation systems, an applied example: Chemical equilibria"
   ]
  },
  {
   "cell_type": "markdown",
   "metadata": {},
   "source": [
    "One of the strengths of ``pyneqsys`` is its ability to represent the system of non-linear equations symbolically. This allows the user to reformulate the problem in an physically equivalent but in a numerically different form.\n",
    "\n",
    "In this notebook we will look at how we can remove linearly dependent equations automatically and go from an overdetermined system to a system with equal number of unknowns as equations. The latter is the preferred form (when it's possible to achive) since it gives a square Jacboian matrix and there are a larger family of numerial methods which we can use to optimize it (i.e. root finding)."
   ]
  },
  {
   "cell_type": "code",
   "execution_count": null,
   "metadata": {},
   "outputs": [],
   "source": [
    "from __future__ import (absolute_import, division, print_function)\n",
    "from functools import reduce, partial\n",
    "from operator import mul\n",
    "import sympy as sp\n",
    "import numpy as np\n",
    "import matplotlib.pyplot as plt\n",
    "from pyneqsys.symbolic import SymbolicSys, TransformedSys, linear_exprs\n",
    "sp.init_printing()"
   ]
  },
  {
   "cell_type": "markdown",
   "metadata": {},
   "source": [
    "Let's consider:\n",
    "$$ \\rm\n",
    "H_2O \\rightleftharpoons H^+ + OH^- \\\\\n",
    "NH_4^+ \\rightleftharpoons H^+ + NH_3\n",
    "$$"
   ]
  },
  {
   "cell_type": "code",
   "execution_count": null,
   "metadata": {},
   "outputs": [],
   "source": [
    "texnames = 'H^+ OH^- NH_4^+ NH_3 H_2O'.split()\n",
    "n = len(texnames)\n",
    "NH3_idx = texnames.index('NH_3')\n",
    "NH3_varied = np.logspace(-7, 0)\n",
    "c0 = 1e-7, 1e-7, 1e-7, 1, 55\n",
    "K = Kw, Ka = 10**-14/55, 10**-9.24"
   ]
  },
  {
   "cell_type": "markdown",
   "metadata": {},
   "source": [
    "Let's define the stoichiometry and composition:"
   ]
  },
  {
   "cell_type": "code",
   "execution_count": null,
   "metadata": {},
   "outputs": [],
   "source": [
    "stoichs = [[1, 1, 0, 0, -1], [1, 0, -1, 1, 0]]  # our 2 equilibria\n",
    "H = [1, 1, 4, 3, 2]\n",
    "N = [0, 0, 1, 1, 0]\n",
    "O = [0, 1, 0, 0, 1]\n",
    "q = [1, -1, 1, 0, 0]  # charge\n",
    "preserv = [H, N, O, q]"
   ]
  },
  {
   "cell_type": "markdown",
   "metadata": {},
   "source": [
    "and now a function for the system of equations:"
   ]
  },
  {
   "cell_type": "code",
   "execution_count": null,
   "metadata": {},
   "outputs": [],
   "source": [
    "prod = lambda x: reduce(mul, x)\n",
    "\n",
    "def get_f(x, params, backend, lnK):\n",
    "    init_concs = params[:n]\n",
    "    eq_constants = params[n:]\n",
    "    le = linear_exprs(preserv, x, linear_exprs(preserv, init_concs), rref=True)\n",
    "    if lnK:\n",
    "        return le + [\n",
    "            sum(backend.log(xi)*p for xi, p in zip(x, coeffs)) - backend.log(K) \n",
    "            for coeffs, K in zip(stoichs, eq_constants)\n",
    "        ]\n",
    "    else:\n",
    "        return le + [\n",
    "            prod(xi**p for xi, p in zip(x, coeffs)) - K for coeffs, K in zip(stoichs, eq_constants)\n",
    "        ]"
   ]
  },
  {
   "cell_type": "markdown",
   "metadata": {},
   "source": [
    "note how we passed ``rref=True`` to ``linear_exprs``, this will give a linear system in [**r**educed **r**ow **e**cholon **f**orm](https://en.wikipedia.org/wiki/Row_echelon_form#Reduced_row_echelon_form) the system of equations. The four preservation equations (one for charge and three for atom types) has one linearly dependent equation which is dropped by ``pyneqsys.symbolic.linear_exprs``, and after adding our two equations from the equilibria we are left with 5 equations (same number as unknowns)."
   ]
  },
  {
   "cell_type": "code",
   "execution_count": null,
   "metadata": {},
   "outputs": [],
   "source": [
    "neqsys = SymbolicSys.from_callback(\n",
    "    partial(get_f, lnK=False), n, n+len(K),\n",
    "    latex_names=[r'\\mathrm{[%s]}' % nam for nam in texnames],\n",
    "    latex_param_names=[r'\\mathrm{[%s]_0}' % nam for nam in texnames] + [r'K_{\\rm w}', r'K_{\\rm a}(\\mathrm{NH_4^+})']\n",
    ")\n",
    "neqsys"
   ]
  },
  {
   "cell_type": "code",
   "execution_count": null,
   "metadata": {},
   "outputs": [],
   "source": [
    "neqsys.get_jac()"
   ]
  },
  {
   "cell_type": "code",
   "execution_count": null,
   "metadata": {},
   "outputs": [],
   "source": [
    "%matplotlib inline\n",
    "def solve_and_plot(nsys):\n",
    "    fig = plt.figure(figsize=(12, 4))\n",
    "    ax_out = plt.subplot(1, 2, 1, xscale='log', yscale='log')\n",
    "    ax_err = plt.subplot(1, 2, 2, xscale='log')\n",
    "    ax_err.set_yscale('symlog', linthresh=1e-14)\n",
    "    xres, extra = nsys.solve_and_plot_series(\n",
    "        c0, c0+K, NH3_varied, NH3_idx, 'scipy', \n",
    "        plot_kwargs=dict(ax=ax_out), plot_residuals_kwargs=dict(ax=ax_err))\n",
    "    for ax in (ax_out, ax_err):\n",
    "        ax.set_xlabel('[NH3]0 / M')\n",
    "    ax_out.set_ylabel('Concentration / M')\n",
    "    ax_out.legend(loc='best')\n",
    "    ax_err.set_ylabel('Residuals')\n",
    "    \n",
    "    avg_nfev = np.average([nfo['nfev'] for nfo in extra['info']])\n",
    "    avg_njev = np.average([nfo['njev'] for nfo in extra['info']])\n",
    "    success = np.average([int(nfo['success']) for nfo in extra['info']])\n",
    "    return {'avg_nfev': avg_nfev, 'avg_njev': avg_njev, 'success': success}\n",
    "\n",
    "    \n",
    "solve_and_plot(neqsys)"
   ]
  },
  {
   "cell_type": "markdown",
   "metadata": {},
   "source": [
    "Now let's see how pyneqsys can transform our system:"
   ]
  },
  {
   "cell_type": "code",
   "execution_count": null,
   "metadata": {},
   "outputs": [],
   "source": [
    "tneqsys = TransformedSys.from_callback(\n",
    "    partial(get_f, lnK=True), (sp.exp, sp.log), 5, 7,\n",
    "    latex_names=neqsys.latex_names, latex_param_names=neqsys.latex_param_names)\n",
    "tneqsys"
   ]
  },
  {
   "cell_type": "markdown",
   "metadata": {},
   "source": [
    "Note how the conservation laws became non-linear while the expressions corresponding to the equilibria became linear."
   ]
  },
  {
   "cell_type": "code",
   "execution_count": null,
   "metadata": {},
   "outputs": [],
   "source": [
    "c_res, info = tneqsys.solve([1]*5, np.array(c0+K))\n",
    "c0, c_res, info['success']"
   ]
  },
  {
   "cell_type": "code",
   "execution_count": null,
   "metadata": {},
   "outputs": [],
   "source": [
    "solve_and_plot(tneqsys)"
   ]
  },
  {
   "cell_type": "markdown",
   "metadata": {},
   "source": [
    "we can see that on average the transformed system was somewhat harder to solve (larger average numbers of function & Jacobian evaluations), however, having an alternative formulation can be very valuable when the original formulation fails to converge during optimization."
   ]
  }
 ],
 "metadata": {
  "kernelspec": {
   "display_name": "Python 3 (ipykernel)",
   "language": "python",
   "name": "python3"
  },
  "language_info": {
   "codemirror_mode": {
    "name": "ipython",
    "version": 3
   },
   "file_extension": ".py",
   "mimetype": "text/x-python",
   "name": "python",
   "nbconvert_exporter": "python",
   "pygments_lexer": "ipython3",
   "version": "3.10.6"
  }
 },
 "nbformat": 4,
 "nbformat_minor": 1
}
