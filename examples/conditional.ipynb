{
 "cells": [
  {
   "cell_type": "markdown",
   "metadata": {},
   "source": [
    "# Conditional non-linear systems of equations\n",
    "Sometimes when performing modelling work in physical sciences we use different sets of equations to describe our system depending on conditions. Sometimes it is not known beforehand which of those formulations that will be applicable (only after having solved the system of equations can we reject or accept the answer). ``pyneqsys`` provides facilities to handle precisely this situation."
   ]
  },
  {
   "cell_type": "code",
   "execution_count": null,
   "metadata": {},
   "outputs": [],
   "source": [
    "from __future__ import (absolute_import, division, print_function)\n",
    "from functools import reduce\n",
    "from operator import mul\n",
    "import sympy as sp\n",
    "import numpy as np\n",
    "import matplotlib.pyplot as plt\n",
    "from pyneqsys.symbolic import SymbolicSys, linear_exprs\n",
    "sp.init_printing()"
   ]
  },
  {
   "cell_type": "markdown",
   "metadata": {},
   "source": [
    "Let's consider precipitation/dissolution of NaCl:\n",
    "$$\n",
    "\\rm NaCl(s) \\rightleftharpoons Na^+(aq) + Cl^-(aq)\n",
    "$$"
   ]
  },
  {
   "cell_type": "code",
   "execution_count": null,
   "metadata": {},
   "outputs": [],
   "source": [
    "init_concs = iNa_p, iCl_m, iNaCl = [sp.Symbol('i_'+str(i), real=True, negative=False) for i in range(3)]\n",
    "c = Na_p, Cl_m, NaCl = [sp.Symbol('c_'+str(i), real=True, negative=False) for i in range(3)]\n",
    "prod = lambda x: reduce(mul, x)\n",
    "texnames = [r'\\mathrm{%s}' % k for k in 'Na^+ Cl^- NaCl'.split()]"
   ]
  },
  {
   "cell_type": "markdown",
   "metadata": {},
   "source": [
    "if the solution is saturated, then the [solubility product](https://en.wikipedia.org/wiki/Solubility_equilibrium) will be constant:\n",
    "\n",
    "$$\n",
    "K_{\\rm sp} = \\mathrm{[Na^+][Cl^-]}\n",
    "$$\n",
    "\n",
    "in addition to this (conditial realtion) we can write equations for the preservation of atoms and charge:"
   ]
  },
  {
   "cell_type": "code",
   "execution_count": null,
   "metadata": {},
   "outputs": [],
   "source": [
    "stoichs = [[1, 1, -1]]\n",
    "Na = [1, 0, 1]\n",
    "Cl = [0, 1, 1]\n",
    "charge = [1, -1, 0]\n",
    "preserv = [Na, Cl, charge]\n",
    "eq_constants = [Ksp] = [sp.Symbol('K_{sp}', real=True, positive=True)]\n",
    "\n",
    "def get_f(x, params, saturated):\n",
    "    init_concs = params[:3] if saturated else params[:2]\n",
    "    eq_constants = params[3:]\n",
    "    le = linear_exprs(preserv, x, linear_exprs(preserv, init_concs), rref=True)\n",
    "    return le + ([Na_p*Cl_m - Ksp] if saturated else [NaCl])"
   ]
  },
  {
   "cell_type": "markdown",
   "metadata": {},
   "source": [
    "Our two sets of reactions are then:"
   ]
  },
  {
   "cell_type": "code",
   "execution_count": null,
   "metadata": {},
   "outputs": [],
   "source": [
    "get_f(c, init_concs + eq_constants, False)"
   ]
  },
  {
   "cell_type": "code",
   "execution_count": null,
   "metadata": {},
   "outputs": [],
   "source": [
    "f_true = get_f(c, init_concs + eq_constants, True)\n",
    "f_false = get_f(c, init_concs + eq_constants, False)\n",
    "f_true, f_false"
   ]
  },
  {
   "cell_type": "markdown",
   "metadata": {},
   "source": [
    "We have one condition (a boolean describing whether the solution is saturated or not). We provide two conditionals, one for going from non-saturated to saturated (forward) and one going from saturated to non-saturated (backward):"
   ]
  },
  {
   "cell_type": "code",
   "execution_count": null,
   "metadata": {},
   "outputs": [],
   "source": [
    "from pyneqsys.core import ConditionalNeqSys\n",
    "cneqsys = ConditionalNeqSys(\n",
    "    [\n",
    "        (lambda x, p: (x[0] + x[2]) * (x[1] + x[2]) > p[3],  # forward condition\n",
    "         lambda x, p: x[2] >= 0)                             # backward condition\n",
    "    ],\n",
    "    lambda conds: SymbolicSys(\n",
    "        c, f_true if conds[0] else f_false, init_concs+eq_constants\n",
    "    ),\n",
    "    latex_names=['[%s]' % n for n in texnames], latex_param_names=['[%s]_0' % n for n in texnames]\n",
    ")"
   ]
  },
  {
   "cell_type": "code",
   "execution_count": null,
   "metadata": {},
   "outputs": [],
   "source": [
    "c0, K = [0.5, 0.5, 0], [1]  # Ksp for NaCl(aq) isn't 1 in reality, but used here for illustration\n",
    "params = c0 + K"
   ]
  },
  {
   "cell_type": "markdown",
   "metadata": {},
   "source": [
    "Solving for inital concentrations below the solubility product:"
   ]
  },
  {
   "cell_type": "code",
   "execution_count": null,
   "metadata": {},
   "outputs": [],
   "source": [
    "cneqsys.solve([0.5, 0.5, 0], params)"
   ]
  },
  {
   "cell_type": "markdown",
   "metadata": {},
   "source": [
    "no surprises there (it is of course trivial).\n",
    "\n",
    "In order to illustrate its usefulness, let us consider addition of a more soluable sodium salt (e.g. NaOH) to a chloride rich solution (e.g. HCl):"
   ]
  },
  {
   "cell_type": "code",
   "execution_count": null,
   "metadata": {},
   "outputs": [],
   "source": [
    "%matplotlib inline\n",
    "ax_out = plt.subplot(1, 2, 1)\n",
    "ax_err = plt.subplot(1, 2, 2)\n",
    "xres, sols = cneqsys.solve_and_plot_series(\n",
    "    c0, params, np.linspace(0, 3), 0, 'kinsol',\n",
    "    {'ax': ax_out}, {'ax': ax_err}, fnormtol=1e-14)\n",
    "_ = ax_out.legend()"
   ]
  },
  {
   "cell_type": "markdown",
   "metadata": {},
   "source": [
    "note the (expected) discontinuity at $\\mathrm{[Na^+]_0 = 2}$ at which point the solution became saturated"
   ]
  }
 ],
 "metadata": {
  "kernelspec": {
   "display_name": "Python 3",
   "language": "python",
   "name": "python3"
  },
  "language_info": {
   "codemirror_mode": {
    "name": "ipython",
    "version": 3
   },
   "file_extension": ".py",
   "mimetype": "text/x-python",
   "name": "python",
   "nbconvert_exporter": "python",
   "pygments_lexer": "ipython3",
   "version": "3.5.2"
  }
 },
 "nbformat": 4,
 "nbformat_minor": 1
}
